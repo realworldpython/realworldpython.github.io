{
 "cells": [
  {
   "cell_type": "markdown",
   "metadata": {},
   "source": [
    "Full list of functions provided in PFA specification is available [here](../../function-library/)."
   ]
  },
  {
   "cell_type": "code",
   "execution_count": 1,
   "metadata": {},
   "outputs": [],
   "source": [
    "from titus.genpy import PFAEngine\n",
    "inputs = range(1, 10)"
   ]
  },
  {
   "cell_type": "markdown",
   "metadata": {},
   "source": [
    "## One-parameter Functions"
   ]
  },
  {
   "cell_type": "markdown",
   "metadata": {},
   "source": [
    "One-parameter functions accept a single input argument.   \n",
    "Examples: \n",
    "- `m.sqrt` \n",
    "- `m.sin` \n",
    "- `m.cos` \n",
    "- `m.tan` \n",
    "- `m.exp` \n",
    "- `m.ln` (natural logarithm)\n",
    "- `m.log10` (logarithm base 10)\n",
    "- `m.floor`\n",
    "- `m.ceil`\n",
    "- `m.round` \n",
    "\n",
    "One-parameter functions do not need to enclose arguments in square brackets: `{\"m.sin\": 3.14}` is permitted instead of `{\"m.sin\": [3.14]}`."
   ]
  },
  {
   "cell_type": "markdown",
   "metadata": {},
   "source": [
    "**YAML**"
   ]
  },
  {
   "cell_type": "code",
   "execution_count": 2,
   "metadata": {},
   "outputs": [],
   "source": [
    "pfa = \"\"\"\n",
    "input: double\n",
    "output: double\n",
    "action: \n",
    "  - m.sqrt: [input]\"\"\""
   ]
  },
  {
   "cell_type": "code",
   "execution_count": 3,
   "metadata": {},
   "outputs": [],
   "source": [
    "engine, = PFAEngine.fromYaml(pfa)"
   ]
  },
  {
   "cell_type": "code",
   "execution_count": 4,
   "metadata": {},
   "outputs": [
    {
     "name": "stdout",
     "output_type": "stream",
     "text": [
      "1.0\n",
      "1.4142135623730951\n",
      "1.7320508075688772\n",
      "2.0\n",
      "2.23606797749979\n",
      "2.449489742783178\n",
      "2.6457513110645907\n",
      "2.8284271247461903\n",
      "3.0\n"
     ]
    }
   ],
   "source": [
    "for num in inputs:\n",
    "    print(engine.action(num))"
   ]
  },
  {
   "cell_type": "markdown",
   "metadata": {},
   "source": [
    " `[ ]` for single parameter function is not mandatory."
   ]
  },
  {
   "cell_type": "code",
   "execution_count": 5,
   "metadata": {},
   "outputs": [],
   "source": [
    "pfa = \"\"\"\n",
    "input: double\n",
    "output: double\n",
    "action: \n",
    "  - m.sqrt: input\"\"\""
   ]
  },
  {
   "cell_type": "code",
   "execution_count": 6,
   "metadata": {},
   "outputs": [
    {
     "name": "stdout",
     "output_type": "stream",
     "text": [
      "1.0\n",
      "1.4142135623730951\n",
      "1.7320508075688772\n",
      "2.0\n",
      "2.23606797749979\n",
      "2.449489742783178\n",
      "2.6457513110645907\n",
      "2.8284271247461903\n",
      "3.0\n"
     ]
    }
   ],
   "source": [
    "engine, = PFAEngine.fromYaml(pfa)\n",
    "for num in inputs:\n",
    "    print(engine.action(num))"
   ]
  },
  {
   "cell_type": "markdown",
   "metadata": {},
   "source": [
    "**JSON**"
   ]
  },
  {
   "cell_type": "code",
   "execution_count": 7,
   "metadata": {},
   "outputs": [
    {
     "name": "stdout",
     "output_type": "stream",
     "text": [
      "1.0\n",
      "1.4142135623730951\n",
      "1.7320508075688772\n",
      "2.0\n",
      "2.23606797749979\n",
      "2.449489742783178\n",
      "2.6457513110645907\n",
      "2.8284271247461903\n",
      "3.0\n"
     ]
    }
   ],
   "source": [
    "pfa = \"\"\"\n",
    "{\n",
    "    \"input\":\"double\",\n",
    "    \"output\":\"double\",\n",
    "    \"action\":[\n",
    "        {\"m.sqrt\": \"input\"}\n",
    "    ]\n",
    "}\n",
    "\"\"\"\n",
    "\n",
    "engine, = PFAEngine.fromJson(pfa)\n",
    "for num in inputs:\n",
    "    print(engine.action(num))"
   ]
  },
  {
   "cell_type": "markdown",
   "metadata": {},
   "source": [
    "## Two-parameter Functions"
   ]
  },
  {
   "cell_type": "markdown",
   "metadata": {},
   "source": [
    "Two-parameter functions accept two input arguments.   \n",
    "Examples: \n",
    "- `\"+\"` (addition)\n",
    "- `\"-\"` (subtraction)\n",
    "- `\"x\"` (multiplication)\n",
    "- `\"/\"` (floating-point division)\n",
    "- `\"//\"` (integer division)\n",
    "- `\"u-\"` (negation)\n",
    "- `\"%\"` (modulo)\n",
    "- `\"%%\"` (remainder)\n",
    "- `\"xx\"` (exponentiation)"
   ]
  },
  {
   "cell_type": "markdown",
   "metadata": {},
   "source": [
    "**YAML**"
   ]
  },
  {
   "cell_type": "code",
   "execution_count": 8,
   "metadata": {},
   "outputs": [
    {
     "name": "stdout",
     "output_type": "stream",
     "text": [
      "45\n",
      "99\n",
      "62\n",
      "-32\n",
      "-97\n",
      "-73\n",
      "18\n",
      "93\n",
      "82\n"
     ]
    }
   ],
   "source": [
    "pfa = \"\"\"\n",
    "input: double\n",
    "output: double\n",
    "action:\n",
    "  - {m.round: {\"*\": [{m.sin: {+: [input, 100]}}, 100]}}\"\"\"\n",
    "\n",
    "engine2, = PFAEngine.fromYaml(pfa)\n",
    "for num in inputs:\n",
    "    print(engine2.action(num))"
   ]
  },
  {
   "cell_type": "markdown",
   "metadata": {},
   "source": [
    "**JSON**"
   ]
  },
  {
   "cell_type": "code",
   "execution_count": 9,
   "metadata": {},
   "outputs": [
    {
     "name": "stdout",
     "output_type": "stream",
     "text": [
      "45\n",
      "99\n",
      "62\n",
      "-32\n",
      "-97\n",
      "-73\n",
      "18\n",
      "93\n",
      "82\n"
     ]
    }
   ],
   "source": [
    "pfa = \"\"\"\n",
    "{\n",
    "    \"input\": \"double\",\n",
    "    \"output\": \"double\",\n",
    "    \"action\": [{\n",
    "        \"m.round\": {\n",
    "            \"*\": [\n",
    "                {\"m.sin\": {\"+\": [\"input\", 100]}}, \n",
    "                100\n",
    "            ]\n",
    "        }\n",
    "    }]\n",
    "}\n",
    "\"\"\"\n",
    "\n",
    "engine2, = PFAEngine.fromJson(pfa)\n",
    "for num in inputs:\n",
    "    print(engine2.action(num))"
   ]
  }
 ],
 "metadata": {
  "kernelspec": {
   "display_name": "Python 3",
   "language": "python",
   "name": "python3"
  },
  "language_info": {
   "codemirror_mode": {
    "name": "ipython",
    "version": 3
   },
   "file_extension": ".py",
   "mimetype": "text/x-python",
   "name": "python",
   "nbconvert_exporter": "python",
   "pygments_lexer": "ipython3",
   "version": "3.8.5"
  }
 },
 "nbformat": 4,
 "nbformat_minor": 4
}

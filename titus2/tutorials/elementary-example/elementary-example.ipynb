{
 "cells": [
  {
   "cell_type": "markdown",
   "metadata": {},
   "source": [
    "The below example has three parts: \n",
    "- an input type schema, \n",
    "- an output type schema, \n",
    "- and a list of expressions to compute, returning the last one (or in this case, the only one).   \n",
    "\n",
    "These are the only required top-level fields."
   ]
  },
  {
   "cell_type": "code",
   "execution_count": 1,
   "metadata": {},
   "outputs": [],
   "source": [
    "from titus.genpy import PFAEngine"
   ]
  },
  {
   "cell_type": "markdown",
   "metadata": {},
   "source": [
    "## Simple PFA Document from YAML string"
   ]
  },
  {
   "cell_type": "code",
   "execution_count": 2,
   "metadata": {},
   "outputs": [],
   "source": [
    "pfaYAMLDocument = \"\"\"\n",
    "input: double\n",
    "output: double\n",
    "action:\n",
    "  - {+: [input, 100]}\"\"\""
   ]
  },
  {
   "cell_type": "markdown",
   "metadata": {},
   "source": [
    "The **action** routine is called once for every input datum, and a symbol(variable) named **input** references that datum. \n",
    "\n",
    "The above action calls the **+** function and passes **input** and **100** as arguments: `{\"+\": [\"input\", 100]}`. \n",
    "\n",
    "Much like Lisp, PFA has no infix operators — everything is laid out as a syntax tree in Polish notation. \n",
    "\n",
    "You can write the PFA document in JSON or YAML or PrettyPFA."
   ]
  },
  {
   "cell_type": "markdown",
   "metadata": {},
   "source": [
    "### Initializing the Scoring Engine"
   ]
  },
  {
   "cell_type": "code",
   "execution_count": 3,
   "metadata": {},
   "outputs": [],
   "source": [
    "engine, = PFAEngine.fromYaml(pfaYAMLDocument)"
   ]
  },
  {
   "cell_type": "markdown",
   "metadata": {},
   "source": [
    "### Viewing Engine Configuration"
   ]
  },
  {
   "cell_type": "code",
   "execution_count": 4,
   "metadata": {},
   "outputs": [
    {
     "data": {
      "text/plain": [
       "EngineConfig(name=Engine_1,\n",
       "    method=map,\n",
       "    inputPlaceholder=\"double\",\n",
       "    outputPlaceholder=\"double\",\n",
       "    begin=[],\n",
       "    action=[Call('+', [Ref('input'), LiteralInt(100)])],\n",
       "    end=[],\n",
       "    fcns={},\n",
       "    zero=None,\n",
       "    merge=None,\n",
       "    cells={},\n",
       "    pools={},\n",
       "    randseed=None,\n",
       "    doc=None,\n",
       "    version=None,\n",
       "    metadata={},\n",
       "    options={})"
      ]
     },
     "execution_count": 4,
     "metadata": {},
     "output_type": "execute_result"
    }
   ],
   "source": [
    "engine.config"
   ]
  },
  {
   "cell_type": "markdown",
   "metadata": {},
   "source": [
    "## Simple PFA Document from JSON"
   ]
  },
  {
   "cell_type": "markdown",
   "metadata": {},
   "source": [
    "The PFA Document can also be provided as a stringified JSON."
   ]
  },
  {
   "cell_type": "code",
   "execution_count": 5,
   "metadata": {},
   "outputs": [],
   "source": [
    "pfaJSONDocument = \"\"\"\n",
    "{ \n",
    "    \"input\": \"double\",\n",
    "     \"output\": \"double\",\n",
    "     \"action\": [\n",
    "       {\"+\": [\"input\", 100]}\n",
    "     ]\n",
    "}\n",
    "\"\"\"\n",
    "engine2, = PFAEngine.fromJson(pfaJSONDocument)"
   ]
  },
  {
   "cell_type": "code",
   "execution_count": 6,
   "metadata": {},
   "outputs": [
    {
     "data": {
      "text/plain": [
       "EngineConfig(name=Engine_2,\n",
       "    method=map,\n",
       "    inputPlaceholder=\"double\",\n",
       "    outputPlaceholder=\"double\",\n",
       "    begin=[],\n",
       "    action=[Call('+', [Ref('input'), LiteralInt(100)])],\n",
       "    end=[],\n",
       "    fcns={},\n",
       "    zero=None,\n",
       "    merge=None,\n",
       "    cells={},\n",
       "    pools={},\n",
       "    randseed=None,\n",
       "    doc=None,\n",
       "    version=None,\n",
       "    metadata={},\n",
       "    options={})"
      ]
     },
     "execution_count": 6,
     "metadata": {},
     "output_type": "execute_result"
    }
   ],
   "source": [
    "engine2.config"
   ]
  },
  {
   "cell_type": "markdown",
   "metadata": {},
   "source": [
    "## Scoring Engine in Action"
   ]
  },
  {
   "cell_type": "code",
   "execution_count": 7,
   "metadata": {},
   "outputs": [
    {
     "name": "stdout",
     "output_type": "stream",
     "text": [
      "1.0 101.0 101.0\n",
      "2.0 102.0 102.0\n",
      "3.0 103.0 103.0\n",
      "4.0 104.0 104.0\n",
      "5.0 105.0 105.0\n"
     ]
    }
   ],
   "source": [
    "l = [1.0, 2.0, 3.0, 4.0, 5.0]\n",
    "\n",
    "for n in l:\n",
    "    print(n, engine.action(n), engine2.action(n))"
   ]
  }
 ],
 "metadata": {
  "kernelspec": {
   "display_name": "Python 3",
   "language": "python",
   "name": "python3"
  },
  "language_info": {
   "codemirror_mode": {
    "name": "ipython",
    "version": 3
   },
   "file_extension": ".py",
   "mimetype": "text/x-python",
   "name": "python",
   "nbconvert_exporter": "python",
   "pygments_lexer": "ipython3",
   "version": "3.8.5"
  }
 },
 "nbformat": 4,
 "nbformat_minor": 2
}

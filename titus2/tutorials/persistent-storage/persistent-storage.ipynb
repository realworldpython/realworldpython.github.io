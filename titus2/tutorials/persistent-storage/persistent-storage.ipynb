{
 "cells": [
  {
   "cell_type": "markdown",
   "metadata": {},
   "source": [
    "A PFA scoring engine has four types of persistent storage: \n",
    "- cells (private)\n",
    "- cells (shared)\n",
    "- pools (private)\n",
    "- pools (shared)\n",
    "\n",
    "These storage areas are like local symbols in that they store Avro-typed data, but they are unlike local symbols in that they have global scope and are remembered between action invocations, and between the begin and end.\n",
    "\n",
    "\n",
    "**Cells vs Pools**\n",
    "\n",
    "- both persistent storage and can be shared\n",
    "- cells are global variables that cannot be created or destroyed at runtime (only reassigned) \n",
    "- pools are like environments in R: collections of key-value pairs that can be created and destroyed at runtime, and the granularity of concurrent access is at the level of a single pool item.\n",
    "\n",
    "Cells and pools are both specified as JSON objects with the same fields, though init is required for cells and not for pools."
   ]
  },
  {
   "cell_type": "code",
   "execution_count": 1,
   "metadata": {},
   "outputs": [],
   "source": [
    "from titus.genpy import PFAEngine\n",
    "pfa = \"\"\"\n",
    "input: string\n",
    "output: string\n",
    "cells:\n",
    "  longest: {type: string, init: \"\"}\n",
    "action:\n",
    "  - if:\n",
    "      \">\":\n",
    "        - {s.len: input}\n",
    "        - {s.len: {cell: longest}}\n",
    "    then:\n",
    "      - {cell: longest, to: input}\n",
    "      - input\n",
    "    else:\n",
    "      - {cell: longest}\n",
    "\"\"\"\n",
    "\n",
    "engine, = PFAEngine.fromYaml(pfa)"
   ]
  },
  {
   "cell_type": "code",
   "execution_count": 2,
   "metadata": {},
   "outputs": [
    {
     "data": {
      "text/plain": [
       "'abc'"
      ]
     },
     "execution_count": 2,
     "metadata": {},
     "output_type": "execute_result"
    }
   ],
   "source": [
    "engine.action(\"abc\")"
   ]
  },
  {
   "cell_type": "code",
   "execution_count": 3,
   "metadata": {},
   "outputs": [
    {
     "data": {
      "text/plain": [
       "'abcdf'"
      ]
     },
     "execution_count": 3,
     "metadata": {},
     "output_type": "execute_result"
    }
   ],
   "source": [
    "engine.action(\"abcdf\")"
   ]
  },
  {
   "cell_type": "code",
   "execution_count": 4,
   "metadata": {},
   "outputs": [
    {
     "data": {
      "text/plain": [
       "'abcdf'"
      ]
     },
     "execution_count": 4,
     "metadata": {},
     "output_type": "execute_result"
    }
   ],
   "source": [
    "engine.action(\"abc\")"
   ]
  },
  {
   "cell_type": "markdown",
   "metadata": {},
   "source": [
    "**Notes**\n",
    "\n",
    "Cells store individual, named values of a specific type. \n",
    "\n",
    "The scoring engine above reproduces the fold-method example by storing the tally in a cell of type string.\n",
    "\n",
    "It is somewhat more cumbersome to use a persistent cell rather than the fold method, but a few interacting cells can perform more complex tasks than the fold method alone. (Later example)\n",
    "\n",
    "Cells cannot be created or destroyed at runtime, and they must be initialized before the begin method. In the above case, the initial value is an empty string. \n",
    "\n",
    "Pools are persistent storage elements without this restriction. They can be used to gather data into tables."
   ]
  }
 ],
 "metadata": {
  "kernelspec": {
   "display_name": "Python 3",
   "language": "python",
   "name": "python3"
  },
  "language_info": {
   "codemirror_mode": {
    "name": "ipython",
    "version": 3
   },
   "file_extension": ".py",
   "mimetype": "text/x-python",
   "name": "python",
   "nbconvert_exporter": "python",
   "pygments_lexer": "ipython3",
   "version": "3.8.5"
  }
 },
 "nbformat": 4,
 "nbformat_minor": 2
}

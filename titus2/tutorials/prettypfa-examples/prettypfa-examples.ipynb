{
 "cells": [
  {
   "cell_type": "markdown",
   "metadata": {},
   "source": [
    "PFA was designed for data processing. \n",
    "\n",
    "PrettyPFA provides a C-like syntax for PFA, with slight difference in syntax from mainstream progrmming languages.\n",
    "\n",
    "A PrettyPFA document is split into sections, each of which has different rules. The syntax of these sections resembles PFA in YAML.\n",
    "\n",
    "Not everything is built algorithmically in PFA; some parts of a PFA document, such as pre- and post-processing, are usually written by hand. For these parts, there are compilers that turn human-readable code into PFA. \n",
    "\n",
    "Below are some examples of building models using PrettyPFA."
   ]
  },
  {
   "cell_type": "markdown",
   "metadata": {},
   "source": [
    "Link to complete PrettyPFA reference - [https://github.com/opendatagroup/hadrian/wiki/PrettyPFA-Reference](https://github.com/opendatagroup/hadrian/wiki/PrettyPFA-Reference)"
   ]
  },
  {
   "cell_type": "code",
   "execution_count": 1,
   "metadata": {},
   "outputs": [],
   "source": [
    "from titus.genpy import PFAEngine\n",
    "from titus import prettypfa"
   ]
  },
  {
   "cell_type": "markdown",
   "metadata": {},
   "source": [
    "## Finding Square Root"
   ]
  },
  {
   "cell_type": "code",
   "execution_count": 2,
   "metadata": {},
   "outputs": [],
   "source": [
    "pfaDocument = prettypfa.jsonNode(\"\"\"\n",
    "name: SquareRoot\n",
    "input: double\n",
    "output: union(double, null)\n",
    "action:\n",
    "  if (input >= 0.0)\n",
    "    m.sqrt(input)\n",
    "  else\n",
    "    null\n",
    "\"\"\")\n",
    "engine, = PFAEngine.fromJson(pfaDocument)"
   ]
  },
  {
   "cell_type": "code",
   "execution_count": 3,
   "metadata": {},
   "outputs": [
    {
     "data": {
      "text/plain": [
       "2.23606797749979"
      ]
     },
     "execution_count": 3,
     "metadata": {},
     "output_type": "execute_result"
    }
   ],
   "source": [
    "engine.action(5)"
   ]
  },
  {
   "cell_type": "markdown",
   "metadata": {},
   "source": [
    "## Rule Based Classification"
   ]
  },
  {
   "cell_type": "markdown",
   "metadata": {},
   "source": [
    "### JSON"
   ]
  },
  {
   "cell_type": "code",
   "execution_count": 4,
   "metadata": {},
   "outputs": [],
   "source": [
    "pfaDocument = \"\"\"\n",
    "{\n",
    "    \"input\": {\n",
    "        \"type\": \"record\",\n",
    "        \"name\": \"Iris\",\n",
    "        \"fields\": [\n",
    "          {\"name\": \"sepal_length_cm\", \"type\": \"double\"},\n",
    "          {\"name\": \"sepal_width_cm\", \"type\": \"double\"},\n",
    "          {\"name\": \"petal_length_cm\", \"type\": \"double\"},\n",
    "          {\"name\": \"petal_width_cm\", \"type\": \"double\"},\n",
    "          {\"name\": \"class\", \"type\": \"string\"}\n",
    "        ]\n",
    "    },\n",
    "    \"output\": \"string\",\n",
    "    \"action\": [{\n",
    "        \"if\": {\"<\": [\"input.petal_length_cm\", 2.5]},\n",
    "        \"then\": {\"string\": \"Iris-setosa\"},\n",
    "        \"else\":{\n",
    "            \"if\": {\"<\": [\"input.petal_length_cm\", 4.8]},\n",
    "            \"then\": {\"string\": \"Iris-versicolor\"},\n",
    "            \"else\":{\n",
    "                \"if\": {\"<\": [\"input.petal_width_cm\", 1.7]},\n",
    "                \"then\": {\"string\": \"Iris-versicolor\"},\n",
    "                \"else\": {\"string\": \"Iris-virginica\"}\n",
    "            }\n",
    "        }\n",
    "    }]\n",
    "}\n",
    "\"\"\"\n",
    "engine, = PFAEngine.fromJson(pfaDocument)"
   ]
  },
  {
   "cell_type": "code",
   "execution_count": 5,
   "metadata": {},
   "outputs": [
    {
     "data": {
      "text/plain": [
       "'Iris-setosa'"
      ]
     },
     "execution_count": 5,
     "metadata": {},
     "output_type": "execute_result"
    }
   ],
   "source": [
    "engine.action({\"sepal_length_cm\": 5.1, \"sepal_width_cm\": 3.5,\n",
    "               \"petal_length_cm\": 1.4, \"petal_width_cm\": 0.2,\n",
    "               \"class\": \"Iris-setosa\"})"
   ]
  },
  {
   "cell_type": "code",
   "execution_count": 6,
   "metadata": {},
   "outputs": [
    {
     "name": "stdout",
     "output_type": "stream",
     "text": [
      "accuracy 0.9533333333333334\n"
     ]
    }
   ],
   "source": [
    "import csv\n",
    "\n",
    "dataset = csv.reader(open(\"../../assets/iris.csv\"))\n",
    "fields = next(dataset)\n",
    "\n",
    "numCorrect = 0.0\n",
    "numTotal = 0.0\n",
    "for datum in dataset:\n",
    "    asRecord = dict(zip(fields, datum))\n",
    "    if engine.action(asRecord) == asRecord[\"class\"]:\n",
    "        numCorrect += 1.0\n",
    "    numTotal += 1.0\n",
    "\n",
    "print(\"accuracy\", numCorrect/numTotal)"
   ]
  },
  {
   "cell_type": "markdown",
   "metadata": {},
   "source": [
    "### PrettyPFA (Conditional Statements)"
   ]
  },
  {
   "cell_type": "code",
   "execution_count": 7,
   "metadata": {},
   "outputs": [],
   "source": [
    "pfaDocument = prettypfa.jsonNode('''\n",
    "input: record(sepal_length_cm: double,\n",
    "              sepal_width_cm: double,\n",
    "              petal_length_cm: double,\n",
    "              petal_width_cm: double)\n",
    "output: string\n",
    "action:\n",
    "  if (input.petal_length_cm < 2.5)\n",
    "    \"Iris-setosa\"\n",
    "  else if (input.petal_length_cm < 4.8)\n",
    "    \"Iris-versicolor\"\n",
    "  else if (input.petal_width_cm < 1.7)\n",
    "    \"Iris-versicolor\"\n",
    "  else\n",
    "    \"Iris-virginica\"\n",
    "''')\n",
    "engine, = PFAEngine.fromJson(pfaDocument)"
   ]
  },
  {
   "cell_type": "code",
   "execution_count": 8,
   "metadata": {},
   "outputs": [
    {
     "data": {
      "text/plain": [
       "'Iris-setosa'"
      ]
     },
     "execution_count": 8,
     "metadata": {},
     "output_type": "execute_result"
    }
   ],
   "source": [
    "engine.action({\"sepal_length_cm\": 5.1, \"sepal_width_cm\": 3.5,\n",
    "               \"petal_length_cm\": 1.4, \"petal_width_cm\": 0.2,\n",
    "               \"class\": \"Iris-setosa\"})"
   ]
  },
  {
   "cell_type": "markdown",
   "metadata": {},
   "source": [
    "### PrettyPFA (Rule Based)"
   ]
  },
  {
   "cell_type": "code",
   "execution_count": 9,
   "metadata": {},
   "outputs": [],
   "source": [
    "pfaDocument = prettypfa.jsonNode('''\n",
    "input: record(sepal_length_cm: double,\n",
    "              sepal_width_cm: double,\n",
    "              petal_length_cm: double,\n",
    "              petal_width_cm: double)\n",
    "output: string\n",
    "types:\n",
    "  Rules = array(record(field: string,\n",
    "                       cut: double,\n",
    "                       result: string))\n",
    "cells:\n",
    "  rules(Rules) = [\n",
    "    {field: \"petal_length_cm\", cut: 2.5, result: \"Iris-setosa\"},\n",
    "    {field: \"petal_length_cm\", cut: 4.8, result: \"Iris-versicolor\"},\n",
    "    {field: \"petal_width_cm\", cut: 1.7, result: \"Iris-versicolor\"},\n",
    "    {field: \"none\", cut: -1, result: \"Iris-virginica\"}\n",
    "  ]\n",
    "\n",
    "action:\n",
    "  var result = \"\";\n",
    "\n",
    "  for (index = 0; result == \"\"; index = index + 1) {\n",
    "    var rule = rules[index];\n",
    "\n",
    "    var fieldValue =\n",
    "      if (rule.field == \"sepal_length_cm\") input.sepal_length_cm\n",
    "      else if (rule.field == \"sepal_width_cm\") input.sepal_width_cm\n",
    "      else if (rule.field == \"petal_length_cm\") input.petal_length_cm\n",
    "      else if (rule.field == \"petal_width_cm\") input.petal_width_cm\n",
    "      else -1.0;\n",
    "\n",
    "    if (rule.field == \"none\"  ||  fieldValue < rule.cut)\n",
    "      result = rule.result;\n",
    "  };\n",
    "\n",
    "  result\n",
    "''')\n",
    "engine, = PFAEngine.fromJson(pfaDocument)"
   ]
  },
  {
   "cell_type": "code",
   "execution_count": 10,
   "metadata": {},
   "outputs": [
    {
     "data": {
      "text/plain": [
       "'Iris-setosa'"
      ]
     },
     "execution_count": 10,
     "metadata": {},
     "output_type": "execute_result"
    }
   ],
   "source": [
    "engine.action({\"sepal_length_cm\": 5.1, \"sepal_width_cm\": 3.5,\n",
    "               \"petal_length_cm\": 1.4, \"petal_width_cm\": 0.2,\n",
    "               \"class\": \"Iris-setosa\"})"
   ]
  },
  {
   "cell_type": "markdown",
   "metadata": {},
   "source": [
    "## Quadratic Formula"
   ]
  },
  {
   "cell_type": "code",
   "execution_count": 11,
   "metadata": {},
   "outputs": [],
   "source": [
    "pfaDocument = prettypfa.json('''\n",
    "input: record(a: double, b: double, c: double)\n",
    "output: union(null,\n",
    "              record(Output,\n",
    "                     solution1: double,\n",
    "                     solution2: double))\n",
    "action:\n",
    "  var a = input.a, b = input.b, c = input.c;\n",
    "\n",
    "  var discriminant = b**2 - 4*a*c;\n",
    "  if (discriminant >= 0.0) {\n",
    "    // if there are any real solutions, return them\n",
    "    var x1 = -b + m.sqrt(discriminant)/(2*a);\n",
    "    var x2 = -b - m.sqrt(discriminant)/(2*a);\n",
    "    new(Output, solution1: x1, solution2: x2)\n",
    "  }\n",
    "  else\n",
    "    // otherwise, return null (N/A)        \n",
    "    null\n",
    "''')\n",
    "engine, = PFAEngine.fromJson(pfaDocument)"
   ]
  },
  {
   "cell_type": "code",
   "execution_count": 12,
   "metadata": {},
   "outputs": [
    {
     "name": "stdout",
     "output_type": "stream",
     "text": [
      "{'solution1': -4.535898384862246, 'solution2': -11.464101615137753}\n"
     ]
    }
   ],
   "source": [
    "print(engine.action({\"a\": 1, \"b\": 8, \"c\": 4}))"
   ]
  },
  {
   "cell_type": "code",
   "execution_count": 13,
   "metadata": {},
   "outputs": [
    {
     "name": "stdout",
     "output_type": "stream",
     "text": [
      "None\n"
     ]
    }
   ],
   "source": [
    "print(engine.action({\"a\": 1, \"b\": 2, \"c\": 3}))"
   ]
  },
  {
   "cell_type": "markdown",
   "metadata": {},
   "source": [
    "## Applying Function"
   ]
  },
  {
   "cell_type": "code",
   "execution_count": 14,
   "metadata": {},
   "outputs": [],
   "source": [
    "pfa = prettypfa.json(\"\"\"\n",
    "input: enum([linear, square, cube])\n",
    "output: int\n",
    "action:\n",
    "  apply(input, 2)\n",
    "fcns:\n",
    "  linear = fcn(x: int -> int) x;\n",
    "  square = fcn(x: int -> int) x**2;\n",
    "  cube = fcn(x: int -> int) x**3;\n",
    "\"\"\")\n",
    "engine, = PFAEngine.fromJson(pfa)"
   ]
  },
  {
   "cell_type": "code",
   "execution_count": 15,
   "metadata": {},
   "outputs": [
    {
     "data": {
      "text/plain": [
       "8"
      ]
     },
     "execution_count": 15,
     "metadata": {},
     "output_type": "execute_result"
    }
   ],
   "source": [
    "engine.action(\"cube\")"
   ]
  }
 ],
 "metadata": {
  "kernelspec": {
   "display_name": "Python 3",
   "language": "python",
   "name": "python3"
  },
  "language_info": {
   "codemirror_mode": {
    "name": "ipython",
    "version": 3
   },
   "file_extension": ".py",
   "mimetype": "text/x-python",
   "name": "python",
   "nbconvert_exporter": "python",
   "pygments_lexer": "ipython3",
   "version": "3.8.5"
  }
 },
 "nbformat": 4,
 "nbformat_minor": 2
}

{
 "cells": [
  {
   "cell_type": "markdown",
   "metadata": {},
   "source": [
    "A PFA document is a JSON/YAML document with additional constraints. The JSON/YAML content describes algorithms, data types, model parameters, and other aspects of the scoring engine. Some structures have no effect on the scoring procedure and are only intended for archival purposes.\n",
    "\n",
    "Read the Full Specification [here](../../pfa/document-structure/)"
   ]
  },
  {
   "cell_type": "code",
   "execution_count": 1,
   "metadata": {},
   "outputs": [],
   "source": [
    "from titus.genpy import PFAEngine"
   ]
  },
  {
   "cell_type": "markdown",
   "metadata": {},
   "source": [
    "## input, output and action"
   ]
  },
  {
   "cell_type": "markdown",
   "metadata": {},
   "source": [
    "**YAML**"
   ]
  },
  {
   "cell_type": "code",
   "execution_count": 2,
   "metadata": {},
   "outputs": [
    {
     "data": {
      "text/plain": [
       "1"
      ]
     },
     "execution_count": 2,
     "metadata": {},
     "output_type": "execute_result"
    }
   ],
   "source": [
    "pfa_yml = \"\"\"\n",
    "input: int\n",
    "output: int\n",
    "action: input\n",
    "\"\"\"\n",
    "\n",
    "engine, = PFAEngine.fromYaml(pfa_yml)\n",
    "engine.action(1)"
   ]
  },
  {
   "cell_type": "markdown",
   "metadata": {},
   "source": [
    "**JSON**"
   ]
  },
  {
   "cell_type": "code",
   "execution_count": 3,
   "metadata": {},
   "outputs": [
    {
     "data": {
      "text/plain": [
       "1"
      ]
     },
     "execution_count": 3,
     "metadata": {},
     "output_type": "execute_result"
    }
   ],
   "source": [
    "pfa_json = \"\"\"\n",
    "{\n",
    "    \"input\": \"int\",\n",
    "    \"output\": \"int\",\n",
    "    \"action\": \"input\"\n",
    "}\n",
    "\"\"\"\n",
    "\n",
    "engine, = PFAEngine.fromJson(pfa_json)\n",
    "engine.action(1)"
   ]
  },
  {
   "cell_type": "markdown",
   "metadata": {},
   "source": [
    "## method, zero and merge"
   ]
  },
  {
   "cell_type": "markdown",
   "metadata": {},
   "source": [
    "PFA supports 3 methods:\n",
    "- map\n",
    "- emit\n",
    "- fold"
   ]
  },
  {
   "cell_type": "markdown",
   "metadata": {},
   "source": [
    "### 1. Map\n",
    "Map method is simply a mathematical function: one input yields one output."
   ]
  },
  {
   "cell_type": "markdown",
   "metadata": {},
   "source": [
    "**YAML**"
   ]
  },
  {
   "cell_type": "code",
   "execution_count": 4,
   "metadata": {},
   "outputs": [
    {
     "name": "stdout",
     "output_type": "stream",
     "text": [
      "1.4142135623730951\n"
     ]
    }
   ],
   "source": [
    "pfa_yml = \"\"\"\n",
    "input: double\n",
    "output: double\n",
    "method: map\n",
    "action:\n",
    "  - {m.sqrt: input}\"\"\"\n",
    "\n",
    "engine, = PFAEngine.fromYaml(pfa_yml)\n",
    "print(engine.action(2.0))"
   ]
  },
  {
   "cell_type": "markdown",
   "metadata": {},
   "source": [
    "**JSON**"
   ]
  },
  {
   "cell_type": "code",
   "execution_count": 5,
   "metadata": {},
   "outputs": [
    {
     "name": "stdout",
     "output_type": "stream",
     "text": [
      "1.4142135623730951\n"
     ]
    }
   ],
   "source": [
    "pfa_json = \"\"\"\n",
    "{\n",
    "    \"input\": \"double\",\n",
    "    \"output\": \"double\",\n",
    "    \"method\": \"map\",\n",
    "    \"action\": [\n",
    "        {\"m.sqrt\": \"input\"}\n",
    "    ]\n",
    "}\n",
    "\"\"\"\n",
    "engine, = PFAEngine.fromJson(pfa_json)\n",
    "print(engine.action(2.0))"
   ]
  },
  {
   "cell_type": "markdown",
   "metadata": {},
   "source": [
    "### 2. Emit"
   ]
  },
  {
   "cell_type": "markdown",
   "metadata": {},
   "source": [
    "Of the three types of PFA scoring engine (map, emit, and fold), emit requires special attention in scoring. Map and fold engines yield results as the return value of the function (and fold do so cumulatively), but emit engines always return None. \n",
    "\n",
    "The only way to get results from them is by passing a callback function.\n",
    "\n",
    "**YAML**"
   ]
  },
  {
   "cell_type": "code",
   "execution_count": 6,
   "metadata": {},
   "outputs": [
    {
     "name": "stdout",
     "output_type": "stream",
     "text": [
      "input: 1\n",
      "input: 2\n",
      "output: 2.0\n",
      "output: 1.0\n",
      "input: 3\n",
      "input: 4\n",
      "output: 4.0\n",
      "output: 2.0\n",
      "input: 5\n"
     ]
    }
   ],
   "source": [
    "engine, = PFAEngine.fromYaml('''\n",
    "input: double\n",
    "output: double\n",
    "method: emit\n",
    "action:\n",
    "    - if:\n",
    "        ==: [{\"%\": [input, 2]}, 0]\n",
    "      then:\n",
    "        - emit: input\n",
    "        - emit: {/: [input, 2]}\n",
    "''')\n",
    " \n",
    "def newEmit(x):\n",
    "    print(\"output:\", x)\n",
    "\n",
    "engine.emit = newEmit\n",
    " \n",
    "for x in range(1, 6):\n",
    "    print(\"input:\", x)\n",
    "    engine.action(x)"
   ]
  },
  {
   "cell_type": "markdown",
   "metadata": {},
   "source": [
    "**JSON**"
   ]
  },
  {
   "cell_type": "code",
   "execution_count": 7,
   "metadata": {},
   "outputs": [
    {
     "name": "stdout",
     "output_type": "stream",
     "text": [
      "input: 1\n",
      "input: 2\n",
      "output: 2.0\n",
      "output: 1.0\n",
      "input: 3\n",
      "input: 4\n",
      "output: 4.0\n",
      "output: 2.0\n",
      "input: 5\n"
     ]
    }
   ],
   "source": [
    "engine, = PFAEngine.fromJson('''\n",
    "{\n",
    "    \"input\": \"double\",\n",
    "    \"output\": \"double\",\n",
    "    \"method\": \"emit\",\n",
    "    \"action\": [{\n",
    "        \"if\": {\n",
    "            \"==\": [{\n",
    "                \"%\": [\"input\", 2]\n",
    "            }, 0]\n",
    "        },\n",
    "        \"then\": [{\n",
    "            \"emit\": \"input\"\n",
    "        }, {\n",
    "            \"emit\": {\n",
    "                \"/\": [\"input\", 2]\n",
    "            }\n",
    "        }]\n",
    "    }]\n",
    "}\n",
    "''')\n",
    "\n",
    "def newEmit(x):\n",
    "    print(\"output:\", x)\n",
    "\n",
    "engine.emit = newEmit\n",
    " \n",
    "for x in range(1, 6):\n",
    "    print(\"input:\", x)\n",
    "    engine.action(x)"
   ]
  },
  {
   "cell_type": "markdown",
   "metadata": {},
   "source": [
    "### 3. Fold"
   ]
  },
  {
   "cell_type": "markdown",
   "metadata": {},
   "source": [
    "Fold method is for aggregation. Rather than waiting till the end of the (potentially infinite) dataset, folding engines return a partial result with each call. The previous partial result becomes available to the next action as a symbol tally. If you are only interested in the total, ignore all but the last output."
   ]
  },
  {
   "cell_type": "code",
   "execution_count": 8,
   "metadata": {},
   "outputs": [
    {
     "name": "stdout",
     "output_type": "stream",
     "text": [
      "1.0\n",
      "1.0\n",
      "2.0\n",
      "2.0\n",
      "3.0\n"
     ]
    }
   ],
   "source": [
    "engine, = PFAEngine.fromYaml('''\n",
    "input: double\n",
    "output: double\n",
    "method: fold\n",
    "zero: 0\n",
    "action:\n",
    "  - {\"-\": [input, tally]}\n",
    "merge:\n",
    "  - {\"+\": [tallyOne, tallyTwo]}\n",
    "''')\n",
    "\n",
    "print(engine.action(1)) # 1-0 -> tally is now 1 after execution\n",
    "print(engine.action(2)) # 2-1\n",
    "print(engine.action(3)) # 3-1\n",
    "print(engine.action(4)) # 4-2\n",
    "print(engine.action(5)) # 5-2"
   ]
  },
  {
   "cell_type": "code",
   "execution_count": 9,
   "metadata": {},
   "outputs": [
    {
     "name": "stdout",
     "output_type": "stream",
     "text": [
      "1\n",
      "12\n",
      "123\n",
      "1234\n",
      "12345\n"
     ]
    }
   ],
   "source": [
    "engine, = PFAEngine.fromYaml('''\n",
    "input: int\n",
    "output: string\n",
    "method: fold\n",
    "zero: \"\"\n",
    "action:\n",
    "  - {s.concat: [tally, {s.int: input}]}\n",
    "merge:\n",
    "  - {s.concat: [tallyOne, tallyTwo]}\n",
    "''')\n",
    "\n",
    "print(engine.action(1))\n",
    "print(engine.action(2))\n",
    "print(engine.action(3))\n",
    "print(engine.action(4))\n",
    "print(engine.action(5))"
   ]
  },
  {
   "cell_type": "markdown",
   "metadata": {},
   "source": [
    "The zero and merge sections are required for fold engines, and must not be present in map or emit engines. "
   ]
  },
  {
   "cell_type": "markdown",
   "metadata": {},
   "source": [
    "## begin, end, fncs, ranseed"
   ]
  },
  {
   "cell_type": "code",
   "execution_count": 10,
   "metadata": {},
   "outputs": [
    {
     "data": {
      "text/plain": [
       "['abc']"
      ]
     },
     "execution_count": 10,
     "metadata": {},
     "output_type": "execute_result"
    }
   ],
   "source": [
    "pfa = \"\"\"\n",
    "{\n",
    "    \"input\": \"string\",\n",
    "    \"output\": {\"type\": \"array\", \"items\": \"string\"},\n",
    "    \"cells\": {\n",
    "       \"accumulate\": {\"type\": {\"type\": \"array\", \"items\": \"string\"},\n",
    "                      \"init\": []}},\n",
    "    \"method\": \"map\",\n",
    "    \"begin\":\n",
    "       {\"log\": {\"rand.gaussian\": [0.0, 1.0]}},\n",
    "    \"action\":\n",
    "       {\"cell\": \"accumulate\",\n",
    "        \"to\": {\"fcn\": \"u.addone\", \"fill\": {\"newitem\": \"input\"}}},\n",
    "    \"end\":\n",
    "       {\"log\": {\"rand.choice\": {\"cell\": \"accumulate\"}}},\n",
    "    \"fcns\":\n",
    "       {\"addone\":\n",
    "         {\"params\": [{\"old\": {\"type\": \"array\", \"items\": \"string\"}},\n",
    "                     {\"newitem\": \"string\"}],\n",
    "          \"ret\": {\"type\": \"array\", \"items\": \"string\"},\n",
    "          \"do\": {\"a.append\": [\"old\", \"newitem\"]}}},\n",
    "    \"randseed\": 12345,\n",
    "    \"name\": \"ExampleScoringEngine\",\n",
    "    \"version\": 1,\n",
    "    \"doc\": \"Doesn't do much.\",\n",
    "    \"metadata\": {\"does\": \"notmuch\"},\n",
    "    \"options\": {\"timeout\": 1000}\n",
    "}\n",
    "\"\"\"\n",
    "\n",
    "engine, = PFAEngine.fromJson(pfa)\n",
    "engine.action(\"abc\")"
   ]
  },
  {
   "cell_type": "markdown",
   "metadata": {},
   "source": [
    "### Fibonacci in PFA (Recursion)"
   ]
  },
  {
   "cell_type": "code",
   "execution_count": 11,
   "metadata": {},
   "outputs": [],
   "source": [
    "pfa = \"\"\"\n",
    "{\n",
    "    \"input\": \"int\",\n",
    "    \"output\": \"int\",\n",
    "    \"method\": \"map\",\n",
    "    \"action\": [{\"u.fib\": [\"input\"]}],\n",
    "    \"fcns\": \n",
    "    {\n",
    "        \"fib\": \n",
    "        {\n",
    "            \"params\": [{\"n\": \"int\"}], \n",
    "            \"ret\": \"int\", \n",
    "            \"do\":\n",
    "            {\n",
    "              \"cond\":[ \n",
    "              {\"if\": {\"==\": [\"n\", 0]}, \"then\": 0},\n",
    "              {\"if\": {\"==\": [\"n\", 1]}, \"then\": 1}],\n",
    "              \"else\": {\"+\": [\n",
    "                {\"u.fib\": [{\"-\": [\"n\", 1]}]},\n",
    "                {\"u.fib\": [{\"-\": [\"n\", 2]}]}\n",
    "              ]}\n",
    "            }\n",
    "        }\n",
    "    }\n",
    "}\n",
    "\"\"\"\n",
    "\n",
    "engine, = PFAEngine.fromJson(pfa)"
   ]
  },
  {
   "cell_type": "code",
   "execution_count": 12,
   "metadata": {},
   "outputs": [
    {
     "data": {
      "text/plain": [
       "144"
      ]
     },
     "execution_count": 12,
     "metadata": {},
     "output_type": "execute_result"
    }
   ],
   "source": [
    "engine.action(12)"
   ]
  },
  {
   "cell_type": "markdown",
   "metadata": {},
   "source": [
    "### Fibonacci in PFA (Loops)"
   ]
  },
  {
   "cell_type": "code",
   "execution_count": 13,
   "metadata": {},
   "outputs": [],
   "source": [
    "pfa = \"\"\"\n",
    "{\n",
    "\"input\": \"int\",\n",
    "\"output\": \"int\",\n",
    "\"method\": \"map\",\n",
    "\"action\": [{\"u.fib\": [\"input\"]}],\n",
    "\"fcns\": {\n",
    "    \"fib\": {\n",
    "        \"params\": [{\"n\": \"int\"}], \n",
    "        \"ret\": \"int\", \n",
    "        \"do\": [\n",
    "                {\"let\": {\"now\": 0, \"next\": 1}},\n",
    "                {\"for\": {\"i\": \"n\"}, \n",
    "                \"while\": {\">\": [\"i\", 1]}, \n",
    "                \"step\": {\"i\": {\"-\": [\"i\", 1]}},\n",
    "                \"do\": \n",
    "                    [\n",
    "                    {\"let\": {\"tmp\": {\"+\": [\"now\", \"next\"]}}},\n",
    "                    {\"set\": {\"now\": \"next\",\n",
    "                            \"next\": \"tmp\"}}\n",
    "                    ]\n",
    "                 },\n",
    "                {\"if\": {\"==\": [\"n\", 0]}, \"then\": 0, \"else\": \"next\"}\n",
    "            ]\n",
    "        }\n",
    "    }\n",
    "}\n",
    "\"\"\"\n",
    "\n",
    "engine, = PFAEngine.fromJson(pfa)"
   ]
  },
  {
   "cell_type": "code",
   "execution_count": 14,
   "metadata": {},
   "outputs": [
    {
     "data": {
      "text/plain": [
       "144"
      ]
     },
     "execution_count": 14,
     "metadata": {},
     "output_type": "execute_result"
    }
   ],
   "source": [
    "engine.action(12)"
   ]
  },
  {
   "cell_type": "markdown",
   "metadata": {},
   "source": [
    "## begin and end\n",
    "\n",
    "In some cases, you may want to perform special actions at the beginning and end of a data stream. \n",
    "\n",
    "PFA has begin and end routines for this purpose. \n",
    "\n",
    "The begin and end routines do not accept input and do not return output; they only manipulate persistent storage."
   ]
  },
  {
   "cell_type": "code",
   "execution_count": 15,
   "metadata": {},
   "outputs": [],
   "source": [
    "engine.begin()\n",
    "engine.end()"
   ]
  },
  {
   "cell_type": "markdown",
   "metadata": {},
   "source": [
    "## Locator Marks & Names\n",
    "\n",
    "Any JSON object in a PFA document may include \"@\" as a string-valued field. This string is used to provide a line number from the original source file so that errors can be traced back to their source.\n",
    "\n",
    "Following Avro convention, names of PFA identifiers start with `[A-Za-z_]` & subsequently contain only `[A-Za-z0-9_]`"
   ]
  }
 ],
 "metadata": {
  "kernelspec": {
   "display_name": "Python 3",
   "language": "python",
   "name": "python3"
  },
  "language_info": {
   "codemirror_mode": {
    "name": "ipython",
    "version": 3
   },
   "file_extension": ".py",
   "mimetype": "text/x-python",
   "name": "python",
   "nbconvert_exporter": "python",
   "pygments_lexer": "ipython3",
   "version": "3.8.5"
  }
 },
 "nbformat": 4,
 "nbformat_minor": 2
}
